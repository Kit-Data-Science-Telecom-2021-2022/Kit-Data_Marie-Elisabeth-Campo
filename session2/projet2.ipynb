{
 "cells": [
  {
   "cell_type": "markdown",
   "metadata": {},
   "source": [
    "\n",
    "# Télécom Paris - Kit Start Data - Session 2 Projet 2"
   ]
  },
  {
   "cell_type": "markdown",
   "metadata": {
    "collapsed": true
   },
   "source": [
    "# Pandas"
   ]
  },
  {
   "cell_type": "markdown",
   "metadata": {},
   "source": [
    "**Projet maison n° 1**\n",
    "\n",
    "- Ajoutez une colonne 'CP Ville' avec le Code postal + un espace + et le nom de la Ville.\n",
    "- Ecrivez une fonction qui détermine la commune la plus proche d'un point à partir de sa latitude et sa longitude.\n",
    "- Ajoutez une fonction de conversion pour pouvoir utiliser la première fonction avec un GPS (degrés, minutes, secondes)."
   ]
  },
  {
   "cell_type": "code",
   "execution_count": 5,
   "metadata": {},
   "outputs": [
    {
     "data": {
      "text/html": [
       "<div>\n",
       "<style scoped>\n",
       "    .dataframe tbody tr th:only-of-type {\n",
       "        vertical-align: middle;\n",
       "    }\n",
       "\n",
       "    .dataframe tbody tr th {\n",
       "        vertical-align: top;\n",
       "    }\n",
       "\n",
       "    .dataframe thead th {\n",
       "        text-align: right;\n",
       "    }\n",
       "</style>\n",
       "<table border=\"1\" class=\"dataframe\">\n",
       "  <thead>\n",
       "    <tr style=\"text-align: right;\">\n",
       "      <th></th>\n",
       "      <th>Code Postal</th>\n",
       "      <th>Commune</th>\n",
       "      <th>Département</th>\n",
       "      <th>Région</th>\n",
       "      <th>Statut</th>\n",
       "      <th>Altitude Moyenne</th>\n",
       "      <th>Superficie</th>\n",
       "      <th>Population</th>\n",
       "      <th>geo_point_2d</th>\n",
       "      <th>geo_shape</th>\n",
       "    </tr>\n",
       "    <tr>\n",
       "      <th>Code INSEE</th>\n",
       "      <th></th>\n",
       "      <th></th>\n",
       "      <th></th>\n",
       "      <th></th>\n",
       "      <th></th>\n",
       "      <th></th>\n",
       "      <th></th>\n",
       "      <th></th>\n",
       "      <th></th>\n",
       "      <th></th>\n",
       "    </tr>\n",
       "  </thead>\n",
       "  <tbody>\n",
       "    <tr>\n",
       "      <th>31080</th>\n",
       "      <td>31350</td>\n",
       "      <td>BOULOGNE-SUR-GESSE</td>\n",
       "      <td>HAUTE-GARONNE</td>\n",
       "      <td>MIDI-PYRENEES</td>\n",
       "      <td>Chef-lieu canton</td>\n",
       "      <td>301.0</td>\n",
       "      <td>2470.0</td>\n",
       "      <td>1.6</td>\n",
       "      <td>43.2904403081, 0.650641474176</td>\n",
       "      <td>{\"type\": \"Polygon\", \"coordinates\": [[[0.671852...</td>\n",
       "    </tr>\n",
       "    <tr>\n",
       "      <th>11143</th>\n",
       "      <td>11510</td>\n",
       "      <td>FEUILLA</td>\n",
       "      <td>AUDE</td>\n",
       "      <td>LANGUEDOC-ROUSSILLON</td>\n",
       "      <td>Commune simple</td>\n",
       "      <td>314.0</td>\n",
       "      <td>2426.0</td>\n",
       "      <td>0.1</td>\n",
       "      <td>42.9291375888, 2.90138923544</td>\n",
       "      <td>{\"type\": \"Polygon\", \"coordinates\": [[[2.906996...</td>\n",
       "    </tr>\n",
       "    <tr>\n",
       "      <th>43028</th>\n",
       "      <td>43200</td>\n",
       "      <td>BESSAMOREL</td>\n",
       "      <td>HAUTE-LOIRE</td>\n",
       "      <td>AUVERGNE</td>\n",
       "      <td>Commune simple</td>\n",
       "      <td>888.0</td>\n",
       "      <td>743.0</td>\n",
       "      <td>0.4</td>\n",
       "      <td>45.1306448726, 4.07952494849</td>\n",
       "      <td>{\"type\": \"Polygon\", \"coordinates\": [[[4.091674...</td>\n",
       "    </tr>\n",
       "    <tr>\n",
       "      <th>78506</th>\n",
       "      <td>78660</td>\n",
       "      <td>PRUNAY-EN-YVELINES</td>\n",
       "      <td>YVELINES</td>\n",
       "      <td>ILE-DE-FRANCE</td>\n",
       "      <td>Commune simple</td>\n",
       "      <td>155.0</td>\n",
       "      <td>2717.0</td>\n",
       "      <td>0.8</td>\n",
       "      <td>48.5267627187, 1.80513972814</td>\n",
       "      <td>{\"type\": \"Polygon\", \"coordinates\": [[[1.829610...</td>\n",
       "    </tr>\n",
       "    <tr>\n",
       "      <th>84081</th>\n",
       "      <td>84310</td>\n",
       "      <td>MORIERES-LES-AVIGNON</td>\n",
       "      <td>VAUCLUSE</td>\n",
       "      <td>PROVENCE-ALPES-COTE D'AZUR</td>\n",
       "      <td>Commune simple</td>\n",
       "      <td>49.0</td>\n",
       "      <td>1042.0</td>\n",
       "      <td>7.6</td>\n",
       "      <td>43.9337788848, 4.90875878315</td>\n",
       "      <td>{\"type\": \"Polygon\", \"coordinates\": [[[4.927176...</td>\n",
       "    </tr>\n",
       "  </tbody>\n",
       "</table>\n",
       "</div>"
      ],
      "text/plain": [
       "           Code Postal               Commune    Département  \\\n",
       "Code INSEE                                                    \n",
       "31080            31350    BOULOGNE-SUR-GESSE  HAUTE-GARONNE   \n",
       "11143            11510               FEUILLA           AUDE   \n",
       "43028            43200            BESSAMOREL    HAUTE-LOIRE   \n",
       "78506            78660    PRUNAY-EN-YVELINES       YVELINES   \n",
       "84081            84310  MORIERES-LES-AVIGNON       VAUCLUSE   \n",
       "\n",
       "                                Région            Statut  Altitude Moyenne  \\\n",
       "Code INSEE                                                                   \n",
       "31080                    MIDI-PYRENEES  Chef-lieu canton             301.0   \n",
       "11143             LANGUEDOC-ROUSSILLON    Commune simple             314.0   \n",
       "43028                         AUVERGNE    Commune simple             888.0   \n",
       "78506                    ILE-DE-FRANCE    Commune simple             155.0   \n",
       "84081       PROVENCE-ALPES-COTE D'AZUR    Commune simple              49.0   \n",
       "\n",
       "            Superficie  Population                   geo_point_2d  \\\n",
       "Code INSEE                                                          \n",
       "31080           2470.0         1.6  43.2904403081, 0.650641474176   \n",
       "11143           2426.0         0.1   42.9291375888, 2.90138923544   \n",
       "43028            743.0         0.4   45.1306448726, 4.07952494849   \n",
       "78506           2717.0         0.8   48.5267627187, 1.80513972814   \n",
       "84081           1042.0         7.6   43.9337788848, 4.90875878315   \n",
       "\n",
       "                                                    geo_shape  \n",
       "Code INSEE                                                     \n",
       "31080       {\"type\": \"Polygon\", \"coordinates\": [[[0.671852...  \n",
       "11143       {\"type\": \"Polygon\", \"coordinates\": [[[2.906996...  \n",
       "43028       {\"type\": \"Polygon\", \"coordinates\": [[[4.091674...  \n",
       "78506       {\"type\": \"Polygon\", \"coordinates\": [[[1.829610...  \n",
       "84081       {\"type\": \"Polygon\", \"coordinates\": [[[4.927176...  "
      ]
     },
     "execution_count": 5,
     "metadata": {},
     "output_type": "execute_result"
    }
   ],
   "source": [
    "# chargement des données\n",
    "import pandas as pd\n",
    "import numpy as np\n",
    "geo = pd.read_csv(\"correspondance-code-insee-code-postal.csv\",\n",
    "                   sep=';',\n",
    "                   usecols=range(11),\n",
    "                   index_col=\"Code INSEE\")\n",
    "geo.head()"
   ]
  },
  {
   "cell_type": "code",
   "execution_count": 6,
   "metadata": {},
   "outputs": [],
   "source": [
    "# ajout colonne CP ville selon spécifications demandées \n",
    "geo[\"CP Ville\"] = geo[\"Code Postal\"] + ' ' + geo[\"Code Postal\"]"
   ]
  },
  {
   "cell_type": "code",
   "execution_count": 7,
   "metadata": {},
   "outputs": [],
   "source": [
    "geo[\"Latitude\"] = geo[\"geo_point_2d\"].str.extract(\"(.*),(.*)\")[0].astype(float)\n",
    "geo[\"Longitude\"] = geo[\"geo_point_2d\"].str.extract(\"(.*),(.*)\")[1].astype(float)"
   ]
  },
  {
   "cell_type": "code",
   "execution_count": 8,
   "metadata": {},
   "outputs": [
    {
     "data": {
      "text/html": [
       "<div>\n",
       "<style scoped>\n",
       "    .dataframe tbody tr th:only-of-type {\n",
       "        vertical-align: middle;\n",
       "    }\n",
       "\n",
       "    .dataframe tbody tr th {\n",
       "        vertical-align: top;\n",
       "    }\n",
       "\n",
       "    .dataframe thead th {\n",
       "        text-align: right;\n",
       "    }\n",
       "</style>\n",
       "<table border=\"1\" class=\"dataframe\">\n",
       "  <thead>\n",
       "    <tr style=\"text-align: right;\">\n",
       "      <th></th>\n",
       "      <th>Code Postal</th>\n",
       "      <th>Commune</th>\n",
       "      <th>Département</th>\n",
       "      <th>Région</th>\n",
       "      <th>Statut</th>\n",
       "      <th>Altitude Moyenne</th>\n",
       "      <th>Superficie</th>\n",
       "      <th>Population</th>\n",
       "      <th>geo_point_2d</th>\n",
       "      <th>geo_shape</th>\n",
       "      <th>CP Ville</th>\n",
       "      <th>Latitude</th>\n",
       "      <th>Longitude</th>\n",
       "    </tr>\n",
       "    <tr>\n",
       "      <th>Code INSEE</th>\n",
       "      <th></th>\n",
       "      <th></th>\n",
       "      <th></th>\n",
       "      <th></th>\n",
       "      <th></th>\n",
       "      <th></th>\n",
       "      <th></th>\n",
       "      <th></th>\n",
       "      <th></th>\n",
       "      <th></th>\n",
       "      <th></th>\n",
       "      <th></th>\n",
       "      <th></th>\n",
       "    </tr>\n",
       "  </thead>\n",
       "  <tbody>\n",
       "    <tr>\n",
       "      <th>31080</th>\n",
       "      <td>31350</td>\n",
       "      <td>BOULOGNE-SUR-GESSE</td>\n",
       "      <td>HAUTE-GARONNE</td>\n",
       "      <td>MIDI-PYRENEES</td>\n",
       "      <td>Chef-lieu canton</td>\n",
       "      <td>301.0</td>\n",
       "      <td>2470.0</td>\n",
       "      <td>1.6</td>\n",
       "      <td>43.2904403081, 0.650641474176</td>\n",
       "      <td>{\"type\": \"Polygon\", \"coordinates\": [[[0.671852...</td>\n",
       "      <td>31350 31350</td>\n",
       "      <td>43.290440</td>\n",
       "      <td>0.650641</td>\n",
       "    </tr>\n",
       "    <tr>\n",
       "      <th>11143</th>\n",
       "      <td>11510</td>\n",
       "      <td>FEUILLA</td>\n",
       "      <td>AUDE</td>\n",
       "      <td>LANGUEDOC-ROUSSILLON</td>\n",
       "      <td>Commune simple</td>\n",
       "      <td>314.0</td>\n",
       "      <td>2426.0</td>\n",
       "      <td>0.1</td>\n",
       "      <td>42.9291375888, 2.90138923544</td>\n",
       "      <td>{\"type\": \"Polygon\", \"coordinates\": [[[2.906996...</td>\n",
       "      <td>11510 11510</td>\n",
       "      <td>42.929138</td>\n",
       "      <td>2.901389</td>\n",
       "    </tr>\n",
       "    <tr>\n",
       "      <th>43028</th>\n",
       "      <td>43200</td>\n",
       "      <td>BESSAMOREL</td>\n",
       "      <td>HAUTE-LOIRE</td>\n",
       "      <td>AUVERGNE</td>\n",
       "      <td>Commune simple</td>\n",
       "      <td>888.0</td>\n",
       "      <td>743.0</td>\n",
       "      <td>0.4</td>\n",
       "      <td>45.1306448726, 4.07952494849</td>\n",
       "      <td>{\"type\": \"Polygon\", \"coordinates\": [[[4.091674...</td>\n",
       "      <td>43200 43200</td>\n",
       "      <td>45.130645</td>\n",
       "      <td>4.079525</td>\n",
       "    </tr>\n",
       "    <tr>\n",
       "      <th>78506</th>\n",
       "      <td>78660</td>\n",
       "      <td>PRUNAY-EN-YVELINES</td>\n",
       "      <td>YVELINES</td>\n",
       "      <td>ILE-DE-FRANCE</td>\n",
       "      <td>Commune simple</td>\n",
       "      <td>155.0</td>\n",
       "      <td>2717.0</td>\n",
       "      <td>0.8</td>\n",
       "      <td>48.5267627187, 1.80513972814</td>\n",
       "      <td>{\"type\": \"Polygon\", \"coordinates\": [[[1.829610...</td>\n",
       "      <td>78660 78660</td>\n",
       "      <td>48.526763</td>\n",
       "      <td>1.805140</td>\n",
       "    </tr>\n",
       "    <tr>\n",
       "      <th>84081</th>\n",
       "      <td>84310</td>\n",
       "      <td>MORIERES-LES-AVIGNON</td>\n",
       "      <td>VAUCLUSE</td>\n",
       "      <td>PROVENCE-ALPES-COTE D'AZUR</td>\n",
       "      <td>Commune simple</td>\n",
       "      <td>49.0</td>\n",
       "      <td>1042.0</td>\n",
       "      <td>7.6</td>\n",
       "      <td>43.9337788848, 4.90875878315</td>\n",
       "      <td>{\"type\": \"Polygon\", \"coordinates\": [[[4.927176...</td>\n",
       "      <td>84310 84310</td>\n",
       "      <td>43.933779</td>\n",
       "      <td>4.908759</td>\n",
       "    </tr>\n",
       "  </tbody>\n",
       "</table>\n",
       "</div>"
      ],
      "text/plain": [
       "           Code Postal               Commune    Département  \\\n",
       "Code INSEE                                                    \n",
       "31080            31350    BOULOGNE-SUR-GESSE  HAUTE-GARONNE   \n",
       "11143            11510               FEUILLA           AUDE   \n",
       "43028            43200            BESSAMOREL    HAUTE-LOIRE   \n",
       "78506            78660    PRUNAY-EN-YVELINES       YVELINES   \n",
       "84081            84310  MORIERES-LES-AVIGNON       VAUCLUSE   \n",
       "\n",
       "                                Région            Statut  Altitude Moyenne  \\\n",
       "Code INSEE                                                                   \n",
       "31080                    MIDI-PYRENEES  Chef-lieu canton             301.0   \n",
       "11143             LANGUEDOC-ROUSSILLON    Commune simple             314.0   \n",
       "43028                         AUVERGNE    Commune simple             888.0   \n",
       "78506                    ILE-DE-FRANCE    Commune simple             155.0   \n",
       "84081       PROVENCE-ALPES-COTE D'AZUR    Commune simple              49.0   \n",
       "\n",
       "            Superficie  Population                   geo_point_2d  \\\n",
       "Code INSEE                                                          \n",
       "31080           2470.0         1.6  43.2904403081, 0.650641474176   \n",
       "11143           2426.0         0.1   42.9291375888, 2.90138923544   \n",
       "43028            743.0         0.4   45.1306448726, 4.07952494849   \n",
       "78506           2717.0         0.8   48.5267627187, 1.80513972814   \n",
       "84081           1042.0         7.6   43.9337788848, 4.90875878315   \n",
       "\n",
       "                                                    geo_shape     CP Ville  \\\n",
       "Code INSEE                                                                   \n",
       "31080       {\"type\": \"Polygon\", \"coordinates\": [[[0.671852...  31350 31350   \n",
       "11143       {\"type\": \"Polygon\", \"coordinates\": [[[2.906996...  11510 11510   \n",
       "43028       {\"type\": \"Polygon\", \"coordinates\": [[[4.091674...  43200 43200   \n",
       "78506       {\"type\": \"Polygon\", \"coordinates\": [[[1.829610...  78660 78660   \n",
       "84081       {\"type\": \"Polygon\", \"coordinates\": [[[4.927176...  84310 84310   \n",
       "\n",
       "             Latitude  Longitude  \n",
       "Code INSEE                        \n",
       "31080       43.290440   0.650641  \n",
       "11143       42.929138   2.901389  \n",
       "43028       45.130645   4.079525  \n",
       "78506       48.526763   1.805140  \n",
       "84081       43.933779   4.908759  "
      ]
     },
     "execution_count": 8,
     "metadata": {},
     "output_type": "execute_result"
    }
   ],
   "source": [
    "geo.head()"
   ]
  },
  {
   "cell_type": "code",
   "execution_count": 9,
   "metadata": {},
   "outputs": [],
   "source": [
    "import math\n",
    "d = geo[[\"Commune\",\"Longitude\",\"Latitude\"]]"
   ]
  },
  {
   "cell_type": "code",
   "execution_count": 16,
   "metadata": {
    "scrolled": false
   },
   "outputs": [],
   "source": [
    "# fonction détermination commune la plus proche\n",
    "def ville(lat, long):\n",
    "    R = 6366.0\n",
    "    d[\"distance\"]=d.apply(lambda x:\n",
    "                     2* math.asin (math.sqrt(\n",
    "                    (math.sin(  (degrad(x[\"Latitude\"])- degrad(lat))/2) )**2\n",
    "                    + math.cos(degrad(x[\"Latitude\"]))*math.cos(degrad(lat))*(math.sin((degrad(x[\"Longitude\"])\n",
    "                    -degrad(long))/2))**2)),axis=1)*R  \n",
    "   \n",
    "    return d[\"Commune\"].loc[d[\"distance\"].idxmin()]\n",
    "      "
   ]
  },
  {
   "cell_type": "code",
   "execution_count": 20,
   "metadata": {
    "scrolled": false
   },
   "outputs": [
    {
     "name": "stderr",
     "output_type": "stream",
     "text": [
      "<ipython-input-16-914405b94dac>:4: SettingWithCopyWarning: \n",
      "A value is trying to be set on a copy of a slice from a DataFrame.\n",
      "Try using .loc[row_indexer,col_indexer] = value instead\n",
      "\n",
      "See the caveats in the documentation: https://pandas.pydata.org/pandas-docs/stable/user_guide/indexing.html#returning-a-view-versus-a-copy\n",
      "  d[\"distance\"]=d.apply(lambda x:\n"
     ]
    },
    {
     "data": {
      "text/plain": [
       "'FENIOUX'"
      ]
     },
     "execution_count": 20,
     "metadata": {},
     "output_type": "execute_result"
    }
   ],
   "source": [
    "# on applique la fonction à une coordonnée tirée au hasard\n",
    "# init du random\n",
    "np.random.seed(35)\n",
    "\n",
    "a, b = 41.5, 51.1  # latitude min et max de la France métropolitaine\n",
    "lat = (b - a) * np.random.random() + a\n",
    "a, b = -5.1, 9.5  # longitude min et max de la France métropolitaine\n",
    "long = (b - a) * np.random.random() + a\n",
    "\n",
    "ville(lat, long)"
   ]
  },
  {
   "cell_type": "code",
   "execution_count": 12,
   "metadata": {
    "scrolled": false
   },
   "outputs": [],
   "source": [
    "# conversion degrés, minutes, secondes => décimal\n",
    "def dms2dec(deg, mn, sec):\n",
    "    return deg + (60 * mn + sec)/3600\n",
    "def degrad(deg):\n",
    "    return deg*math.pi/180\n"
   ]
  },
  {
   "cell_type": "code",
   "execution_count": 13,
   "metadata": {
    "scrolled": false
   },
   "outputs": [
    {
     "name": "stderr",
     "output_type": "stream",
     "text": [
      "<ipython-input-10-b1141f21afcb>:4: SettingWithCopyWarning: \n",
      "A value is trying to be set on a copy of a slice from a DataFrame.\n",
      "Try using .loc[row_indexer,col_indexer] = value instead\n",
      "\n",
      "See the caveats in the documentation: https://pandas.pydata.org/pandas-docs/stable/user_guide/indexing.html#returning-a-view-versus-a-copy\n",
      "  d[\"distance\"]=d.apply(lambda x:\n"
     ]
    },
    {
     "data": {
      "text/plain": [
       "'PALAISEAU'"
      ]
     },
     "execution_count": 13,
     "metadata": {},
     "output_type": "execute_result"
    }
   ],
   "source": [
    "# à partir de coordonnées GPS précises\n",
    "ville(dms2dec(48, 42, 52), dms2dec(2, 14, 45))"
   ]
  },
  {
   "cell_type": "markdown",
   "metadata": {},
   "source": [
    "**Projet maison n° 2**\n",
    "\n",
    "La colonne \"geo_shape\" comporte des chaines de catactères au format JSON. Elles représentent les formes géométriques des communes qui sont soit des polygones soit composées de plusieurs polygones.\n",
    "\n",
    "- Utiliser la librairie Python json pour parser la colonne \"geo_shape\".\n",
    "- Donner le décompte des valeurs accédées avec la clé \"type\".\n",
    "- Donner le décompte des longueurs des listes accédées avec la clé \"coordinates\".\n",
    "- Quelle commune est la plus complexe géométriquement ?\n",
    "- Quelle commune est la seconde la plus complexe géométriquement ?\n",
    "- Quelles sont les villes qui sont de type \"Polygon\" mais dont la longueur des listes accédées avec la clé \"coordinates\" vaut 2 ?\n",
    "- Pour ces villes vérifier que le premier polygone contient bien le second (enclave). *Nota bene* : installer la librairie shapely, utiliser la classe Polygon de shapely.geometry. Sur Windows shapely peut nécessiter d'installer la dll \"geos_c.dll\" dans le répertoire \"Library/bin\" de votre environnement Python."
   ]
  },
  {
   "cell_type": "code",
   "execution_count": 23,
   "metadata": {},
   "outputs": [],
   "source": [
    "import json\n"
   ]
  },
  {
   "cell_type": "code",
   "execution_count": 24,
   "metadata": {},
   "outputs": [],
   "source": [
    "# chargement des données\n",
    "geo = pd.read_csv(\"correspondance-code-insee-code-postal.csv\",\n",
    "                   sep=';',\n",
    "                   usecols=range(11),\n",
    "                   index_col=\"Code INSEE\")"
   ]
  },
  {
   "cell_type": "markdown",
   "metadata": {},
   "source": [
    "**Utiliser la librairie Python json pour parser la colonne \"geo_shape.\"**\n",
    "- Donner le décompte des valeurs accédées avec la clé \"type\"."
   ]
  },
  {
   "cell_type": "code",
   "execution_count": 28,
   "metadata": {
    "scrolled": false
   },
   "outputs": [
    {
     "name": "stdout",
     "output_type": "stream",
     "text": [
      "<class 'pandas.core.frame.DataFrame'>\n",
      "Index: 36742 entries, 31080 to 50224\n",
      "Data columns (total 13 columns):\n",
      " #   Column               Non-Null Count  Dtype  \n",
      "---  ------               --------------  -----  \n",
      " 0   Code Postal          36742 non-null  object \n",
      " 1   Commune              36742 non-null  object \n",
      " 2   Département          36742 non-null  object \n",
      " 3   Région               36742 non-null  object \n",
      " 4   Statut               36742 non-null  object \n",
      " 5   Altitude Moyenne     36742 non-null  float64\n",
      " 6   Superficie           36742 non-null  float64\n",
      " 7   Population           36742 non-null  float64\n",
      " 8   geo_point_2d         36742 non-null  object \n",
      " 9   geo_shape            36742 non-null  object \n",
      " 10  shape_type           36742 non-null  object \n",
      " 11  shape_coordinates    36742 non-null  object \n",
      " 12  shape_coord-nbListe  36742 non-null  int64  \n",
      "dtypes: float64(3), int64(1), object(9)\n",
      "memory usage: 3.9+ MB\n",
      " valeurs de la clé type :['Polygon' 'MultiPolygon']\n",
      " nombre de valeurs de la clé type :2\n",
      "décompte des valeurs accédées avec la clé type\n"
     ]
    },
    {
     "data": {
      "text/plain": [
       "Polygon         36670\n",
       "MultiPolygon       72\n",
       "Name: shape_type, dtype: int64"
      ]
     },
     "execution_count": 28,
     "metadata": {},
     "output_type": "execute_result"
    }
   ],
   "source": [
    "geo[\"shape_type\"]=geo.apply(lambda x: json.loads(x[\"geo_shape\"])['type'],axis=1)\n",
    "geo.info()\n",
    "geo.head(2)\n",
    "print(f' valeurs de la clé type :{geo[\"shape_type\"].unique()}')\n",
    "print(f' nombre de valeurs de la clé type :{geo[\"shape_type\"].nunique()}' )\n",
    "print (\"décompte des valeurs accédées avec la clé type\")\n",
    "geo[\"shape_type\"].value_counts()\n"
   ]
  },
  {
   "cell_type": "markdown",
   "metadata": {},
   "source": [
    "- Donner le décompte des longueurs des listes accédées avec la clé \"coordinates\"."
   ]
  },
  {
   "cell_type": "code",
   "execution_count": 26,
   "metadata": {},
   "outputs": [
    {
     "name": "stdout",
     "output_type": "stream",
     "text": [
      "<class 'pandas.core.frame.DataFrame'>\n",
      "Index: 36742 entries, 31080 to 50224\n",
      "Data columns (total 13 columns):\n",
      " #   Column               Non-Null Count  Dtype  \n",
      "---  ------               --------------  -----  \n",
      " 0   Code Postal          36742 non-null  object \n",
      " 1   Commune              36742 non-null  object \n",
      " 2   Département          36742 non-null  object \n",
      " 3   Région               36742 non-null  object \n",
      " 4   Statut               36742 non-null  object \n",
      " 5   Altitude Moyenne     36742 non-null  float64\n",
      " 6   Superficie           36742 non-null  float64\n",
      " 7   Population           36742 non-null  float64\n",
      " 8   geo_point_2d         36742 non-null  object \n",
      " 9   geo_shape            36742 non-null  object \n",
      " 10  shape_type           36742 non-null  object \n",
      " 11  shape_coordinates    36742 non-null  object \n",
      " 12  shape_coord-nbListe  36742 non-null  int64  \n",
      "dtypes: float64(3), int64(1), object(9)\n",
      "memory usage: 3.9+ MB\n"
     ]
    }
   ],
   "source": [
    "geo[\"shape_coordinates\"] = geo.apply(lambda x: json.loads(x[\"geo_shape\"])['coordinates'], axis = 1)\n",
    "geo[\"shape_coord-nbListe\"] = geo.apply(lambda x: len(x['shape_coordinates']), axis = 1)\n",
    "geo.info()"
   ]
  },
  {
   "cell_type": "code",
   "execution_count": 27,
   "metadata": {},
   "outputs": [
    {
     "name": "stdout",
     "output_type": "stream",
     "text": [
      "longueurs des listes accédées avec la clé \"coordinates\"\n",
      "1    36660\n",
      "2       80\n",
      "3        1\n",
      "4        1\n",
      "Name: shape_coord-nbListe, dtype: int64\n"
     ]
    }
   ],
   "source": [
    "geo[\"shape_coord-nbListe\"].nunique()\n",
    "print(f'longueurs des listes accédées avec la clé \"coordinates\"\\n{geo[\"shape_coord-nbListe\"].value_counts()}')\n"
   ]
  },
  {
   "cell_type": "markdown",
   "metadata": {},
   "source": [
    "- Quelle commune est la plus complexe géométriquement ?\n",
    "\n"
   ]
  },
  {
   "cell_type": "code",
   "execution_count": 33,
   "metadata": {},
   "outputs": [
    {
     "data": {
      "text/plain": [
       "'HYERES'"
      ]
     },
     "execution_count": 33,
     "metadata": {},
     "output_type": "execute_result"
    }
   ],
   "source": [
    "#commune dont le nombre de polygones est le plus grand \n",
    "geo.loc[geo[\"shape_coord-nbListe\"]==4,\"Commune\"].values[0]\n",
    "geo.loc[geo[\"shape_coord-nbListe\"].idxmax(),\"Commune\"]"
   ]
  },
  {
   "cell_type": "markdown",
   "metadata": {},
   "source": [
    "- Quelle commune est la seconde la plus complexe géométriquement ?\n",
    "C'est la commune dont la longueur de complexité est 3 ... ou le max du nombre de liste sans la commune de hyeres"
   ]
  },
  {
   "cell_type": "code",
   "execution_count": 45,
   "metadata": {},
   "outputs": [
    {
     "data": {
      "text/plain": [
       "'VAL-DE-REUIL'"
      ]
     },
     "execution_count": 45,
     "metadata": {},
     "output_type": "execute_result"
    }
   ],
   "source": [
    "geo.loc[geo[\"shape_coord-nbListe\"]==3,\"Commune\"].values[0]\n",
    "geo.loc[geo.loc[(geo[\"Commune\"]!='HYERES')][\"shape_coord-nbListe\"].idxmax()][\"Commune\"]\n"
   ]
  },
  {
   "cell_type": "markdown",
   "metadata": {},
   "source": [
    "- Quelles sont les villes qui sont de type \"Polygon\" mais dont la longueur des listes accédées avec la clé \"coordinates\" vaut 2 ?\n"
   ]
  },
  {
   "cell_type": "code",
   "execution_count": null,
   "metadata": {},
   "outputs": [],
   "source": [
    "#Longueur des listes accédées avec la clé \"coordinates\" [[Liste1],[liste2],...., [ListeN]]\n",
    "\n",
    "def multi(mp):\n",
    "    nb_pt = [len(p) for p in mp]\n",
    "    return np.array(nb_pt).sum()\n",
    "\n",
    "#exemple : \n",
    "L=[[1,[2],3,4] , [1,2,3,4,[5],'6'] ]\n",
    "\n",
    "print(multi(L))"
   ]
  },
  {
   "cell_type": "code",
   "execution_count": 53,
   "metadata": {},
   "outputs": [
    {
     "name": "stdout",
     "output_type": "stream",
     "text": [
      "Code INSEE\n",
      "2A272                SARTENE\n",
      "48080               LANGOGNE\n",
      "09042    LA BASTIDE-DE-SEROU\n",
      "71028            BEAUVERNOIS\n",
      "22209              PLOUBALAY\n",
      "02232               COYOLLES\n",
      "2B049              CALENZANA\n",
      "05052               EYGLIERS\n",
      "67486              SUNDHOUSE\n",
      "68078              EGUISHEIM\n",
      "Name: Commune, dtype: object\n"
     ]
    }
   ],
   "source": [
    "#Parmi elles, longueur de liste=2\n",
    "mpi= geo.loc[(geo[\"shape_coord-nbListe\"]==2) &  (geo[\"shape_type\"]=='Polygon'),\"Commune\"]\n",
    "print(mpi)\n"
   ]
  },
  {
   "cell_type": "code",
   "execution_count": 56,
   "metadata": {},
   "outputs": [
    {
     "data": {
      "text/plain": [
       "Index(['2A272', '48080', '09042', '71028', '22209', '02232', '2B049', '05052',\n",
       "       '67486', '68078'],\n",
       "      dtype='object', name='Code INSEE')"
      ]
     },
     "execution_count": 56,
     "metadata": {},
     "output_type": "execute_result"
    }
   ],
   "source": [
    "mpi.index"
   ]
  },
  {
   "cell_type": "markdown",
   "metadata": {},
   "source": [
    "- Pour ces villes vérifier que le premier polygone contient bien le second (enclave)"
   ]
  },
  {
   "cell_type": "code",
   "execution_count": 47,
   "metadata": {},
   "outputs": [],
   "source": [
    "import shapely as spy\n",
    "from shapely.geometry import Polygon\n"
   ]
  },
  {
   "cell_type": "code",
   "execution_count": 48,
   "metadata": {},
   "outputs": [
    {
     "data": {
      "text/plain": [
       "True"
      ]
     },
     "execution_count": 48,
     "metadata": {},
     "output_type": "execute_result"
    }
   ],
   "source": [
    "def enclave(a,b):\n",
    "    return a.contains(b)\n",
    "#Exemple\n",
    "\n",
    "p = Polygon([[0,0],[0,10],[10,10], [10,0], [0,0]])\n",
    "q = Polygon([[1,1],[1,5],[5,5],[5,1],[1,1]])\n",
    "enclave(p,q)"
   ]
  },
  {
   "cell_type": "code",
   "execution_count": 57,
   "metadata": {},
   "outputs": [
    {
     "data": {
      "text/html": [
       "<div>\n",
       "<style scoped>\n",
       "    .dataframe tbody tr th:only-of-type {\n",
       "        vertical-align: middle;\n",
       "    }\n",
       "\n",
       "    .dataframe tbody tr th {\n",
       "        vertical-align: top;\n",
       "    }\n",
       "\n",
       "    .dataframe thead th {\n",
       "        text-align: right;\n",
       "    }\n",
       "</style>\n",
       "<table border=\"1\" class=\"dataframe\">\n",
       "  <thead>\n",
       "    <tr style=\"text-align: right;\">\n",
       "      <th></th>\n",
       "      <th>Commune</th>\n",
       "      <th>shape_coordinates</th>\n",
       "    </tr>\n",
       "    <tr>\n",
       "      <th>Code INSEE</th>\n",
       "      <th></th>\n",
       "      <th></th>\n",
       "    </tr>\n",
       "  </thead>\n",
       "  <tbody>\n",
       "    <tr>\n",
       "      <th>2A272</th>\n",
       "      <td>SARTENE</td>\n",
       "      <td>[[[8.940487655060174, 41.490088793265336], [8....</td>\n",
       "    </tr>\n",
       "    <tr>\n",
       "      <th>48080</th>\n",
       "      <td>LANGOGNE</td>\n",
       "      <td>[[[3.850531831651621, 44.68745054452225], [3.8...</td>\n",
       "    </tr>\n",
       "    <tr>\n",
       "      <th>09042</th>\n",
       "      <td>LA BASTIDE-DE-SEROU</td>\n",
       "      <td>[[[1.423960819701936, 42.99550854650971], [1.4...</td>\n",
       "    </tr>\n",
       "    <tr>\n",
       "      <th>71028</th>\n",
       "      <td>BEAUVERNOIS</td>\n",
       "      <td>[[[5.416652515196548, 46.826781866293906], [5....</td>\n",
       "    </tr>\n",
       "    <tr>\n",
       "      <th>22209</th>\n",
       "      <td>PLOUBALAY</td>\n",
       "      <td>[[[-2.11237709725211, 48.52896113651634], [-2....</td>\n",
       "    </tr>\n",
       "    <tr>\n",
       "      <th>02232</th>\n",
       "      <td>COYOLLES</td>\n",
       "      <td>[[[3.037897560658703, 49.16921270775551], [3.0...</td>\n",
       "    </tr>\n",
       "    <tr>\n",
       "      <th>2B049</th>\n",
       "      <td>CALENZANA</td>\n",
       "      <td>[[[8.911220447280732, 42.41019895400797], [8.8...</td>\n",
       "    </tr>\n",
       "    <tr>\n",
       "      <th>05052</th>\n",
       "      <td>EYGLIERS</td>\n",
       "      <td>[[[6.719912606601575, 44.70392733592357], [6.7...</td>\n",
       "    </tr>\n",
       "    <tr>\n",
       "      <th>67486</th>\n",
       "      <td>SUNDHOUSE</td>\n",
       "      <td>[[[7.594939251325704, 48.23228567615893], [7.5...</td>\n",
       "    </tr>\n",
       "    <tr>\n",
       "      <th>68078</th>\n",
       "      <td>EGUISHEIM</td>\n",
       "      <td>[[[7.281156117554148, 48.02598189605906], [7.2...</td>\n",
       "    </tr>\n",
       "  </tbody>\n",
       "</table>\n",
       "</div>"
      ],
      "text/plain": [
       "                        Commune  \\\n",
       "Code INSEE                        \n",
       "2A272                   SARTENE   \n",
       "48080                  LANGOGNE   \n",
       "09042       LA BASTIDE-DE-SEROU   \n",
       "71028               BEAUVERNOIS   \n",
       "22209                 PLOUBALAY   \n",
       "02232                  COYOLLES   \n",
       "2B049                 CALENZANA   \n",
       "05052                  EYGLIERS   \n",
       "67486                 SUNDHOUSE   \n",
       "68078                 EGUISHEIM   \n",
       "\n",
       "                                            shape_coordinates  \n",
       "Code INSEE                                                     \n",
       "2A272       [[[8.940487655060174, 41.490088793265336], [8....  \n",
       "48080       [[[3.850531831651621, 44.68745054452225], [3.8...  \n",
       "09042       [[[1.423960819701936, 42.99550854650971], [1.4...  \n",
       "71028       [[[5.416652515196548, 46.826781866293906], [5....  \n",
       "22209       [[[-2.11237709725211, 48.52896113651634], [-2....  \n",
       "02232       [[[3.037897560658703, 49.16921270775551], [3.0...  \n",
       "2B049       [[[8.911220447280732, 42.41019895400797], [8.8...  \n",
       "05052       [[[6.719912606601575, 44.70392733592357], [6.7...  \n",
       "67486       [[[7.594939251325704, 48.23228567615893], [7.5...  \n",
       "68078       [[[7.281156117554148, 48.02598189605906], [7.2...  "
      ]
     },
     "execution_count": 57,
     "metadata": {},
     "output_type": "execute_result"
    }
   ],
   "source": [
    "geomulti = geo.loc[mpi.index,[\"Commune\",\"shape_coordinates\"]]\n",
    "geomulti"
   ]
  },
  {
   "cell_type": "code",
   "execution_count": 60,
   "metadata": {},
   "outputs": [
    {
     "data": {
      "text/html": [
       "<div>\n",
       "<style scoped>\n",
       "    .dataframe tbody tr th:only-of-type {\n",
       "        vertical-align: middle;\n",
       "    }\n",
       "\n",
       "    .dataframe tbody tr th {\n",
       "        vertical-align: top;\n",
       "    }\n",
       "\n",
       "    .dataframe thead th {\n",
       "        text-align: right;\n",
       "    }\n",
       "</style>\n",
       "<table border=\"1\" class=\"dataframe\">\n",
       "  <thead>\n",
       "    <tr style=\"text-align: right;\">\n",
       "      <th></th>\n",
       "      <th>Commune</th>\n",
       "      <th>shape_coordinates</th>\n",
       "      <th>enclave</th>\n",
       "    </tr>\n",
       "    <tr>\n",
       "      <th>Code INSEE</th>\n",
       "      <th></th>\n",
       "      <th></th>\n",
       "      <th></th>\n",
       "    </tr>\n",
       "  </thead>\n",
       "  <tbody>\n",
       "    <tr>\n",
       "      <th>2A272</th>\n",
       "      <td>SARTENE</td>\n",
       "      <td>[[[8.940487655060174, 41.490088793265336], [8....</td>\n",
       "      <td>Vrai</td>\n",
       "    </tr>\n",
       "    <tr>\n",
       "      <th>48080</th>\n",
       "      <td>LANGOGNE</td>\n",
       "      <td>[[[3.850531831651621, 44.68745054452225], [3.8...</td>\n",
       "      <td>Vrai</td>\n",
       "    </tr>\n",
       "    <tr>\n",
       "      <th>09042</th>\n",
       "      <td>LA BASTIDE-DE-SEROU</td>\n",
       "      <td>[[[1.423960819701936, 42.99550854650971], [1.4...</td>\n",
       "      <td>Vrai</td>\n",
       "    </tr>\n",
       "    <tr>\n",
       "      <th>71028</th>\n",
       "      <td>BEAUVERNOIS</td>\n",
       "      <td>[[[5.416652515196548, 46.826781866293906], [5....</td>\n",
       "      <td>Vrai</td>\n",
       "    </tr>\n",
       "    <tr>\n",
       "      <th>22209</th>\n",
       "      <td>PLOUBALAY</td>\n",
       "      <td>[[[-2.11237709725211, 48.52896113651634], [-2....</td>\n",
       "      <td>Vrai</td>\n",
       "    </tr>\n",
       "    <tr>\n",
       "      <th>02232</th>\n",
       "      <td>COYOLLES</td>\n",
       "      <td>[[[3.037897560658703, 49.16921270775551], [3.0...</td>\n",
       "      <td>Vrai</td>\n",
       "    </tr>\n",
       "    <tr>\n",
       "      <th>2B049</th>\n",
       "      <td>CALENZANA</td>\n",
       "      <td>[[[8.911220447280732, 42.41019895400797], [8.8...</td>\n",
       "      <td>Vrai</td>\n",
       "    </tr>\n",
       "    <tr>\n",
       "      <th>05052</th>\n",
       "      <td>EYGLIERS</td>\n",
       "      <td>[[[6.719912606601575, 44.70392733592357], [6.7...</td>\n",
       "      <td>Vrai</td>\n",
       "    </tr>\n",
       "    <tr>\n",
       "      <th>67486</th>\n",
       "      <td>SUNDHOUSE</td>\n",
       "      <td>[[[7.594939251325704, 48.23228567615893], [7.5...</td>\n",
       "      <td>Vrai</td>\n",
       "    </tr>\n",
       "    <tr>\n",
       "      <th>68078</th>\n",
       "      <td>EGUISHEIM</td>\n",
       "      <td>[[[7.281156117554148, 48.02598189605906], [7.2...</td>\n",
       "      <td>Vrai</td>\n",
       "    </tr>\n",
       "  </tbody>\n",
       "</table>\n",
       "</div>"
      ],
      "text/plain": [
       "                        Commune  \\\n",
       "Code INSEE                        \n",
       "2A272                   SARTENE   \n",
       "48080                  LANGOGNE   \n",
       "09042       LA BASTIDE-DE-SEROU   \n",
       "71028               BEAUVERNOIS   \n",
       "22209                 PLOUBALAY   \n",
       "02232                  COYOLLES   \n",
       "2B049                 CALENZANA   \n",
       "05052                  EYGLIERS   \n",
       "67486                 SUNDHOUSE   \n",
       "68078                 EGUISHEIM   \n",
       "\n",
       "                                            shape_coordinates enclave  \n",
       "Code INSEE                                                             \n",
       "2A272       [[[8.940487655060174, 41.490088793265336], [8....    Vrai  \n",
       "48080       [[[3.850531831651621, 44.68745054452225], [3.8...    Vrai  \n",
       "09042       [[[1.423960819701936, 42.99550854650971], [1.4...    Vrai  \n",
       "71028       [[[5.416652515196548, 46.826781866293906], [5....    Vrai  \n",
       "22209       [[[-2.11237709725211, 48.52896113651634], [-2....    Vrai  \n",
       "02232       [[[3.037897560658703, 49.16921270775551], [3.0...    Vrai  \n",
       "2B049       [[[8.911220447280732, 42.41019895400797], [8.8...    Vrai  \n",
       "05052       [[[6.719912606601575, 44.70392733592357], [6.7...    Vrai  \n",
       "67486       [[[7.594939251325704, 48.23228567615893], [7.5...    Vrai  \n",
       "68078       [[[7.281156117554148, 48.02598189605906], [7.2...    Vrai  "
      ]
     },
     "execution_count": 60,
     "metadata": {},
     "output_type": "execute_result"
    }
   ],
   "source": [
    "geomulti[\"enclave\"]=geomulti.apply(lambda x: \"Vrai\"\n",
    "    if enclave( Polygon(x[\"shape_coordinates\"][0]), Polygon(x[\"shape_coordinates\"][1])) else \"Faux\", axis=1)\n",
    "geomulti"
   ]
  },
  {
   "cell_type": "code",
   "execution_count": null,
   "metadata": {},
   "outputs": [],
   "source": []
  }
 ],
 "metadata": {
  "anaconda-cloud": {},
  "kernelspec": {
   "display_name": "Python 3",
   "language": "python",
   "name": "python3"
  },
  "language_info": {
   "codemirror_mode": {
    "name": "ipython",
    "version": 3
   },
   "file_extension": ".py",
   "mimetype": "text/x-python",
   "name": "python",
   "nbconvert_exporter": "python",
   "pygments_lexer": "ipython3",
   "version": "3.8.8"
  }
 },
 "nbformat": 4,
 "nbformat_minor": 1
}
