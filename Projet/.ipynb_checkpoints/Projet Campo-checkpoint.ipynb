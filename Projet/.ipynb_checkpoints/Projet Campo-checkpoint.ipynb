{
 "cells": [
  {
   "cell_type": "markdown",
   "id": "c2b9f017",
   "metadata": {},
   "source": [
    "## Projet Vendée Globe"
   ]
  },
  {
   "cell_type": "code",
   "execution_count": 3,
   "id": "1f20855c",
   "metadata": {},
   "outputs": [
    {
     "ename": "NameError",
     "evalue": "name 'file' is not defined",
     "output_type": "error",
     "traceback": [
      "\u001b[0;31m---------------------------------------------------------------------------\u001b[0m",
      "\u001b[0;31mNameError\u001b[0m                                 Traceback (most recent call last)",
      "\u001b[0;32m/var/folders/cw/kx_3dyf974s_v921k9zgp8w80000gn/T/ipykernel_9463/3620962404.py\u001b[0m in \u001b[0;36m<module>\u001b[0;34m\u001b[0m\n\u001b[1;32m     19\u001b[0m         \u001b[0mshutil\u001b[0m\u001b[0;34m.\u001b[0m\u001b[0mrmtree\u001b[0m\u001b[0;34m(\u001b[0m\u001b[0mtempdir\u001b[0m\u001b[0;34m)\u001b[0m\u001b[0;34m\u001b[0m\u001b[0;34m\u001b[0m\u001b[0m\n\u001b[1;32m     20\u001b[0m \u001b[0;34m\u001b[0m\u001b[0m\n\u001b[0;32m---> 21\u001b[0;31m \u001b[0mchange_in_zip\u001b[0m\u001b[0;34m(\u001b[0m\u001b[0mfile\u001b[0m\u001b[0;34m,\u001b[0m \u001b[0mname_filter\u001b[0m\u001b[0;34m=\u001b[0m\u001b[0;34m'xl/styles.xml'\u001b[0m\u001b[0;34m,\u001b[0m \u001b[0mchange\u001b[0m\u001b[0;34m=\u001b[0m\u001b[0;32mlambda\u001b[0m \u001b[0md\u001b[0m\u001b[0;34m:\u001b[0m \u001b[0mre\u001b[0m\u001b[0;34m.\u001b[0m\u001b[0msub\u001b[0m\u001b[0;34m(\u001b[0m\u001b[0;34mb'xxid=\"\\d*\"'\u001b[0m\u001b[0;34m,\u001b[0m \u001b[0;34mb\"\"\u001b[0m\u001b[0;34m,\u001b[0m \u001b[0md\u001b[0m\u001b[0;34m)\u001b[0m\u001b[0;34m)\u001b[0m \u001b[0;31m# the problematic property is found in the style xml files\u001b[0m\u001b[0;34m\u001b[0m\u001b[0;34m\u001b[0m\u001b[0m\n\u001b[0m",
      "\u001b[0;31mNameError\u001b[0m: name 'file' is not defined"
     ]
    }
   ],
   "source": [
    "import tempfile\n",
    "from zipfile import ZipFile\n",
    "import shutil\n",
    "import os\n",
    "from fnmatch import fnmatch\n",
    "import re\n",
    "\n",
    "def change_in_zip(file_name, name_filter, change):\n",
    "    tempdir = tempfile.mkdtemp()\n",
    "    try:\n",
    "        tempname = os.path.join(tempdir, 'new.zip')\n",
    "        with ZipFile(file_name, 'r') as r, ZipFile(tempname, 'w') as w:\n",
    "            for item in r.infolist():\n",
    "                data = r.read(item.filename)           \n",
    "                data = change(data)\n",
    "                w.writestr(item, data)\n",
    "        shutil.move(tempname, file_name)\n",
    "    finally:\n",
    "        shutil.rmtree(tempdir)\n",
    "\n",
    "change_in_zip(file, name_filter='xl/styles.xml', change=lambda d: re.sub(b'xxid=\"\\d*\"', b\"\", d)) # the problematic property is found in the style xml files\n"
   ]
  },
  {
   "cell_type": "code",
   "execution_count": 5,
   "id": "65ae8cb6",
   "metadata": {},
   "outputs": [],
   "source": [
    "import requests\n",
    "import re \n",
    "from bs4 import BeautifulSoup\n",
    "import pandas as pd\n",
    "import numpy as np\n",
    "import datetime as dt\n",
    "import matplotlib.pyplot as plt\n",
    "pd.set_option('display.max_columns', None)\n",
    "#import cartopy as ctp\n",
    "from sklearn.metrics import r2_score\n",
    "from sklearn import preprocessing\n",
    "from sklearn.linear_model import LassoCV\n",
    "from sklearn.linear_model import LinearRegression\n",
    "import warnings\n",
    "warnings.filterwarnings('ignore')"
   ]
  },
  {
   "cell_type": "markdown",
   "id": "89647bc7",
   "metadata": {},
   "source": [
    "- Récupération des fichiers Excel avec les classements\n",
    "- Mettre en place une copie locale des fichiers Excel afin de ne pas les recharger à chaque run.\n",
    "- Vers la fin de la course le format des fichiers Excel change avec les arrivées des voiliers : il est possible de s'arrêter juste avant."
   ]
  },
  {
   "cell_type": "markdown",
   "id": "09f6cb12",
   "metadata": {},
   "source": [
    "**Extraction des caractéristiques techniques des voiliers**"
   ]
  },
  {
   "cell_type": "markdown",
   "id": "25394e7a",
   "metadata": {},
   "source": [
    "**Rapprochement des données des voiliers avec celle des classements**"
   ]
  },
  {
   "cell_type": "markdown",
   "id": "d9a7dcb8",
   "metadata": {},
   "source": [
    "**Corrélation et régression linéaire entre le classement (rang) et la vitesse utile (VMG) des voiliers**"
   ]
  },
  {
   "cell_type": "markdown",
   "id": "27023c21",
   "metadata": {},
   "source": [
    "**Corrélation et régression linéaire entre le classement (rang) et la vitesse utile (VMG) des voiliers**"
   ]
  },
  {
   "cell_type": "markdown",
   "id": "e8f5adc9",
   "metadata": {},
   "source": [
    "**Impact de la présence d'un foil sur le classement et la vitesse des voiliers**"
   ]
  },
  {
   "cell_type": "markdown",
   "id": "656682e3",
   "metadata": {},
   "source": [
    "**Visualisation de la distance parcourue par voilier**"
   ]
  },
  {
   "cell_type": "markdown",
   "id": "de317f2e",
   "metadata": {},
   "source": [
    "**Cartes avec les routes d'un ou plusieurs voiliers**"
   ]
  },
  {
   "cell_type": "markdown",
   "id": "50745e75",
   "metadata": {},
   "source": [
    "**Analyses de séries temporelles**"
   ]
  },
  {
   "cell_type": "markdown",
   "id": "a9001aed",
   "metadata": {},
   "source": [
    "**Application d'algorithmes statistiques ou de machine learning**"
   ]
  },
  {
   "cell_type": "code",
   "execution_count": null,
   "id": "6235d389",
   "metadata": {},
   "outputs": [],
   "source": []
  }
 ],
 "metadata": {
  "kernelspec": {
   "display_name": "Python 3 (ipykernel)",
   "language": "python",
   "name": "python3"
  },
  "language_info": {
   "codemirror_mode": {
    "name": "ipython",
    "version": 3
   },
   "file_extension": ".py",
   "mimetype": "text/x-python",
   "name": "python",
   "nbconvert_exporter": "python",
   "pygments_lexer": "ipython3",
   "version": "3.8.12"
  }
 },
 "nbformat": 4,
 "nbformat_minor": 5
}
